{
 "cells": [
  {
   "cell_type": "markdown",
   "id": "02db46bc-3b81-4061-9589-c23d2881cf3b",
   "metadata": {
    "collapsed": true,
    "jupyter": {
     "outputs_hidden": true
    }
   },
   "source": [
    "## Probabilidad y Estadística CEIA Coh17.\n",
    "## Trabajo Práctico Nº2."
   ]
  },
  {
   "cell_type": "markdown",
   "id": "6d54dc65-1084-4409-aef7-e743963b4e65",
   "metadata": {},
   "source": [
    "Cargamos los datos en una matriz"
   ]
  },
  {
   "cell_type": "code",
   "execution_count": 1,
   "id": "a48b680c-741f-4635-93e3-125021047514",
   "metadata": {},
   "outputs": [
    {
     "ename": "ModuleNotFoundError",
     "evalue": "No module named 'numpy'",
     "output_type": "error",
     "traceback": [
      "\u001b[0;31m---------------------------------------------------------------------------\u001b[0m",
      "\u001b[0;31mModuleNotFoundError\u001b[0m                       Traceback (most recent call last)",
      "Cell \u001b[0;32mIn[1], line 2\u001b[0m\n\u001b[1;32m      1\u001b[0m \u001b[38;5;66;03m# Cargamos los datos en una matriz\u001b[39;00m\n\u001b[0;32m----> 2\u001b[0m \u001b[38;5;28;01mimport\u001b[39;00m \u001b[38;5;21;01mnumpy\u001b[39;00m \u001b[38;5;28;01mas\u001b[39;00m \u001b[38;5;21;01mnp\u001b[39;00m \n\u001b[1;32m      3\u001b[0m \u001b[38;5;66;03m# A x  = b\u001b[39;00m\n\u001b[1;32m      4\u001b[0m x \u001b[38;5;241m=\u001b[39m np\u001b[38;5;241m.\u001b[39marray([\u001b[38;5;241m0\u001b[39m, \u001b[38;5;241m5\u001b[39m, \u001b[38;5;241m10\u001b[39m, \u001b[38;5;241m15\u001b[39m, \u001b[38;5;241m24\u001b[39m])\n",
      "\u001b[0;31mModuleNotFoundError\u001b[0m: No module named 'numpy'"
     ]
    }
   ],
   "source": [
    "# Cargamos los datos en una matriz\n",
    "import numpy as np \n",
    "# A x  = b\n",
    "x = np.array([0, 5, 10, 15, 24])\n",
    "print(x)\n",
    "# A = []"
   ]
  },
  {
   "cell_type": "code",
   "execution_count": null,
   "id": "ab578c87-07be-42a5-99e8-ff0da32ccc21",
   "metadata": {},
   "outputs": [],
   "source": []
  }
 ],
 "metadata": {
  "kernelspec": {
   "display_name": "Python 3 (ipykernel)",
   "language": "python",
   "name": "python3"
  },
  "language_info": {
   "codemirror_mode": {
    "name": "ipython",
    "version": 3
   },
   "file_extension": ".py",
   "mimetype": "text/x-python",
   "name": "python",
   "nbconvert_exporter": "python",
   "pygments_lexer": "ipython3",
   "version": "3.10.12"
  }
 },
 "nbformat": 4,
 "nbformat_minor": 5
}
